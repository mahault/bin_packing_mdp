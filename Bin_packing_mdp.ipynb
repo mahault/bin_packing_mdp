{
  "nbformat": 4,
  "nbformat_minor": 0,
  "metadata": {
    "colab": {
      "provenance": [],
      "authorship_tag": "ABX9TyML5sFR1VXlUcu1iZarWfSI",
      "include_colab_link": true
    },
    "kernelspec": {
      "name": "python3",
      "display_name": "Python 3"
    },
    "language_info": {
      "name": "python"
    }
  },
  "cells": [
    {
      "cell_type": "markdown",
      "metadata": {
        "id": "view-in-github",
        "colab_type": "text"
      },
      "source": [
        "<a href=\"https://colab.research.google.com/github/mahault/bin_packing_mdp/blob/main/Bin_packing_mdp.ipynb\" target=\"_parent\"><img src=\"https://colab.research.google.com/assets/colab-badge.svg\" alt=\"Open In Colab\"/></a>"
      ]
    },
    {
      "cell_type": "code",
      "execution_count": null,
      "metadata": {
        "id": "-QtqDyEpYa02"
      },
      "outputs": [],
      "source": []
    },
    {
      "cell_type": "markdown",
      "source": [
        "## Bin Packing Problem\n",
        "\n",
        "Pack \\( N \\) items of different sizes into a finite number of bins or containers, each of a fixed given capacity, in a way that minimizes the number of bins used.\n",
        "\n",
        "**Decision Variables:**\n",
        "- \\( x_{ij} \\in \\{0,1\\} \\): Denotes assigning item \\( i \\) to bin \\( j \\).\n",
        "- \\( w_i \\in \\mathbb{R} \\): Size of each item.\n",
        "- \\( W_j \\in \\mathbb{R} \\): Capacity of each bin.\n",
        "- \\( y_j \\in \\{0,1\\} \\): Denotes the event that bin \\( j \\) has been assigned at least one item.\n",
        "\n",
        "**Constraints:**\n",
        "- **Every item must be assigned to a single bin:**  \n",
        "  \\[\n",
        "  \\sum_{j} x_{ij} = 1, \\forall j \\in \\{1, \\ldots, \\infty\\}\n",
        "  \\]\n",
        "- **Every nonempty bin gets turned on:**  \n",
        "  \\[\n",
        "  y_j = \\mathbb{I}\\left[\\sum_{i} x_{ij} > 0\\right], \\forall j \\in \\{1, \\ldots, \\infty\\}\n",
        "  \\]\n",
        "- **Sum of item sizes in each bin must not exceed bin capacity:**  \n",
        "  \\[\n",
        "  \\sum_{i} w_i x_{ij} \\leq W_j, \\forall j \\in \\{1, \\ldots, \\infty\\}\n",
        "  \\]\n",
        "\n",
        "**LP Formulation:**\n",
        "\\[\n",
        "\\text{min} \\quad \\sum_{j} y_j\n",
        "\\]\n",
        "\n",
        "subject to:\n",
        "\n",
        "- \\[\n",
        "  \\sum_{j} x_{ij} = 1, \\forall i \\in \\{1, \\ldots, \\infty\\}\n",
        "  \\]\n",
        "- \\[  y_j = \\mathbb{I}\\left[\\sum_{i} x_{ij} > 0\\right], \\forall j \\in \\{1, \\ldots, \\infty\\}\n",
        "  \\]\n",
        "- \\[  \\sum_{i} w_i x_{ij} \\leq W_j, \\forall j \\in \\{1, \\ldots, \\infty\\}  \\]\n",
        "- \\[  x_{ij} \\in \\{0,1\\}, \\forall i \\in \\{1, \\ldots, N\\}, j \\in \\{1, \\ldots, \\infty\\}  \\]\n"
      ],
      "metadata": {
        "id": "vpCzYi0EYcoQ"
      }
    },
    {
      "cell_type": "markdown",
      "source": [
        "## MDP Formulation\n",
        "\n",
        "**Actions:**\n",
        "- \\( a_i \\in \\{ bin_1, \\ldots, bin_M \\}, \\forall i \\in \\{1, \\ldots, N\\} \\): For every item \\( i \\), pack it into bin \\( m \\).\n",
        "\n",
        "**States:**\n",
        "- \\( z_j \\in \\{0, 1, 2\\}, \\forall j \\in \\{1, \\ldots, M\\} \\): For each bin \\( j \\), whether it is empty (0), non-empty (1), or capacity exceeded (2).\n",
        "- (Not needed) \\( s_i \\in \\{1, \\ldots, M\\}, \\forall i \\in \\{1, \\ldots, N\\} \\): Bin assigned to item \\( i \\).\n",
        "\n",
        "**Transitions:**\n",
        "- \\( P(z_j \\mid a_1, \\ldots, a_N), \\forall j \\in \\{1, \\ldots, M\\} \\): For each bin \\( j \\),\n",
        "  1. If no items are assigned to it, its state is empty: \\( z_j = 0 \\) if \\( a_i \\neq j, \\forall i \\in \\{1, \\ldots, N\\} \\),\n",
        "  2. If the sum of weights of items assigned to it exceeds the capacity: \\( z_j = 2 \\) if \\( \\sum_{i} w_i a_i > W_j \\),\n",
        "  3. Bin is not empty but not capacity exceeded: \\( z_j = 1 \\).\n",
        "- (Not needed) \\( P(s_i \\mid a_i), \\forall i \\in \\{1, \\ldots, N\\} \\): For every item \\( i \\), copy action over to state.\n",
        "\n",
        "**Observations:**\n",
        "- \\( P(z_j \\mid z_j), \\forall j \\in \\{1, \\ldots, M\\} \\): For every bin \\( j \\), copy weight constraint violation state over to observation.\n",
        "- (Not needed) \\( P(s_i \\mid s_i), \\forall i \\in \\{1, \\ldots, N\\} \\): For every item \\( i \\), copy bin assignment state over to observation.\n",
        "\n",
        "**Preferences:**\n",
        "- (Not needed) \\( P(s_i), \\forall i \\in \\{1, \\ldots, N\\} \\): Preference over every item \\( i \\) being assigned a bin is uniform: \\( P = [0.5, 0.5] \\).\n",
        "- \\( P(z_j), \\forall j \\in \\{1, \\ldots, M\\} \\): Preference over the state of each bin \\( j \\) as: empty > non-empty > capacity exceeded, e.g., [0.6, 0.4, 0]. This encourages the minimum number of bins used.\n"
      ],
      "metadata": {
        "id": "Z9YfWJWNZaEi"
      }
    },
    {
      "cell_type": "code",
      "source": [
        "!git clone https://github.com/ran-wei-verses/pymdp.git\n"
      ],
      "metadata": {
        "colab": {
          "base_uri": "https://localhost:8080/",
          "height": 1000
        },
        "id": "Y3LqlnBAc9sz",
        "outputId": "9a10e6c9-a0e8-46bc-871c-b751fc599ce1"
      },
      "execution_count": 7,
      "outputs": [
        {
          "output_type": "stream",
          "name": "stdout",
          "text": [
            "fatal: destination path 'pymdp' already exists and is not an empty directory.\n",
            "/content/pymdp\n",
            "Processing /content/pymdp\n",
            "  Preparing metadata (setup.py) ... \u001b[?25l\u001b[?25hdone\n",
            "Requirement already satisfied: attrs>=20.3.0 in /usr/local/lib/python3.10/dist-packages (from inferactively-pymdp==0.0.7.1) (23.2.0)\n",
            "Requirement already satisfied: cycler>=0.10.0 in /usr/local/lib/python3.10/dist-packages (from inferactively-pymdp==0.0.7.1) (0.12.1)\n",
            "Requirement already satisfied: iniconfig>=1.1.1 in /usr/local/lib/python3.10/dist-packages (from inferactively-pymdp==0.0.7.1) (2.0.0)\n",
            "Requirement already satisfied: kiwisolver>=1.3.1 in /usr/local/lib/python3.10/dist-packages (from inferactively-pymdp==0.0.7.1) (1.4.5)\n",
            "Requirement already satisfied: matplotlib>=3.1.3 in /usr/local/lib/python3.10/dist-packages (from inferactively-pymdp==0.0.7.1) (3.7.1)\n",
            "Requirement already satisfied: nose>=1.3.7 in /usr/local/lib/python3.10/dist-packages (from inferactively-pymdp==0.0.7.1) (1.3.7)\n",
            "Requirement already satisfied: numpy>=1.19.5 in /usr/local/lib/python3.10/dist-packages (from inferactively-pymdp==0.0.7.1) (1.25.2)\n",
            "Requirement already satisfied: openpyxl>=3.0.7 in /usr/local/lib/python3.10/dist-packages (from inferactively-pymdp==0.0.7.1) (3.1.2)\n",
            "Requirement already satisfied: packaging>=20.8 in /usr/local/lib/python3.10/dist-packages (from inferactively-pymdp==0.0.7.1) (24.0)\n",
            "Requirement already satisfied: pandas>=1.2.4 in /usr/local/lib/python3.10/dist-packages (from inferactively-pymdp==0.0.7.1) (2.0.3)\n",
            "Requirement already satisfied: Pillow>=8.2.0 in /usr/local/lib/python3.10/dist-packages (from inferactively-pymdp==0.0.7.1) (9.4.0)\n",
            "Requirement already satisfied: pluggy>=0.13.1 in /usr/local/lib/python3.10/dist-packages (from inferactively-pymdp==0.0.7.1) (1.5.0)\n",
            "Requirement already satisfied: py>=1.10.0 in /usr/local/lib/python3.10/dist-packages (from inferactively-pymdp==0.0.7.1) (1.11.0)\n",
            "Requirement already satisfied: pyparsing>=2.4.7 in /usr/local/lib/python3.10/dist-packages (from inferactively-pymdp==0.0.7.1) (3.1.2)\n",
            "Requirement already satisfied: pytest>=6.2.1 in /usr/local/lib/python3.10/dist-packages (from inferactively-pymdp==0.0.7.1) (7.4.4)\n",
            "Requirement already satisfied: python-dateutil>=2.8.1 in /usr/local/lib/python3.10/dist-packages (from inferactively-pymdp==0.0.7.1) (2.8.2)\n",
            "Requirement already satisfied: pytz>=2020.5 in /usr/local/lib/python3.10/dist-packages (from inferactively-pymdp==0.0.7.1) (2023.4)\n",
            "Requirement already satisfied: scipy>=1.6.0 in /usr/local/lib/python3.10/dist-packages (from inferactively-pymdp==0.0.7.1) (1.11.4)\n",
            "Requirement already satisfied: seaborn>=0.11.1 in /usr/local/lib/python3.10/dist-packages (from inferactively-pymdp==0.0.7.1) (0.13.1)\n",
            "Requirement already satisfied: six>=1.15.0 in /usr/local/lib/python3.10/dist-packages (from inferactively-pymdp==0.0.7.1) (1.16.0)\n",
            "Requirement already satisfied: toml>=0.10.2 in /usr/local/lib/python3.10/dist-packages (from inferactively-pymdp==0.0.7.1) (0.10.2)\n",
            "Requirement already satisfied: typing-extensions>=3.7.4.3 in /usr/local/lib/python3.10/dist-packages (from inferactively-pymdp==0.0.7.1) (4.11.0)\n",
            "Requirement already satisfied: xlsxwriter>=1.4.3 in /usr/local/lib/python3.10/dist-packages (from inferactively-pymdp==0.0.7.1) (3.2.0)\n",
            "Requirement already satisfied: sphinx-rtd-theme>=0.4 in /usr/local/lib/python3.10/dist-packages (from inferactively-pymdp==0.0.7.1) (2.0.0)\n",
            "Requirement already satisfied: myst-nb>=0.13.1 in /usr/local/lib/python3.10/dist-packages (from inferactively-pymdp==0.0.7.1) (1.1.0)\n",
            "Requirement already satisfied: autograd>=1.3 in /usr/local/lib/python3.10/dist-packages (from inferactively-pymdp==0.0.7.1) (1.6.2)\n",
            "Requirement already satisfied: future>=0.15.2 in /usr/local/lib/python3.10/dist-packages (from autograd>=1.3->inferactively-pymdp==0.0.7.1) (0.18.3)\n",
            "Requirement already satisfied: contourpy>=1.0.1 in /usr/local/lib/python3.10/dist-packages (from matplotlib>=3.1.3->inferactively-pymdp==0.0.7.1) (1.2.1)\n",
            "Requirement already satisfied: fonttools>=4.22.0 in /usr/local/lib/python3.10/dist-packages (from matplotlib>=3.1.3->inferactively-pymdp==0.0.7.1) (4.51.0)\n",
            "Requirement already satisfied: importlib_metadata in /usr/local/lib/python3.10/dist-packages (from myst-nb>=0.13.1->inferactively-pymdp==0.0.7.1) (7.1.0)\n",
            "Requirement already satisfied: ipython in /usr/local/lib/python3.10/dist-packages (from myst-nb>=0.13.1->inferactively-pymdp==0.0.7.1) (7.34.0)\n",
            "Requirement already satisfied: jupyter-cache>=0.5 in /usr/local/lib/python3.10/dist-packages (from myst-nb>=0.13.1->inferactively-pymdp==0.0.7.1) (1.0.0)\n",
            "Requirement already satisfied: nbclient in /usr/local/lib/python3.10/dist-packages (from myst-nb>=0.13.1->inferactively-pymdp==0.0.7.1) (0.10.0)\n",
            "Requirement already satisfied: myst-parser>=1.0.0 in /usr/local/lib/python3.10/dist-packages (from myst-nb>=0.13.1->inferactively-pymdp==0.0.7.1) (3.0.1)\n",
            "Requirement already satisfied: nbformat>=5.0 in /usr/local/lib/python3.10/dist-packages (from myst-nb>=0.13.1->inferactively-pymdp==0.0.7.1) (5.10.4)\n",
            "Requirement already satisfied: pyyaml in /usr/local/lib/python3.10/dist-packages (from myst-nb>=0.13.1->inferactively-pymdp==0.0.7.1) (6.0.1)\n",
            "Requirement already satisfied: sphinx>=5 in /usr/local/lib/python3.10/dist-packages (from myst-nb>=0.13.1->inferactively-pymdp==0.0.7.1) (7.3.7)\n",
            "Requirement already satisfied: ipykernel in /usr/local/lib/python3.10/dist-packages (from myst-nb>=0.13.1->inferactively-pymdp==0.0.7.1) (5.5.6)\n",
            "Requirement already satisfied: et-xmlfile in /usr/local/lib/python3.10/dist-packages (from openpyxl>=3.0.7->inferactively-pymdp==0.0.7.1) (1.1.0)\n",
            "Requirement already satisfied: tzdata>=2022.1 in /usr/local/lib/python3.10/dist-packages (from pandas>=1.2.4->inferactively-pymdp==0.0.7.1) (2024.1)\n",
            "Requirement already satisfied: exceptiongroup>=1.0.0rc8 in /usr/local/lib/python3.10/dist-packages (from pytest>=6.2.1->inferactively-pymdp==0.0.7.1) (1.2.1)\n",
            "Requirement already satisfied: tomli>=1.0.0 in /usr/local/lib/python3.10/dist-packages (from pytest>=6.2.1->inferactively-pymdp==0.0.7.1) (2.0.1)\n",
            "Requirement already satisfied: docutils<0.21 in /usr/local/lib/python3.10/dist-packages (from sphinx-rtd-theme>=0.4->inferactively-pymdp==0.0.7.1) (0.18.1)\n",
            "Requirement already satisfied: sphinxcontrib-jquery<5,>=4 in /usr/local/lib/python3.10/dist-packages (from sphinx-rtd-theme>=0.4->inferactively-pymdp==0.0.7.1) (4.1)\n",
            "Requirement already satisfied: click in /usr/local/lib/python3.10/dist-packages (from jupyter-cache>=0.5->myst-nb>=0.13.1->inferactively-pymdp==0.0.7.1) (8.1.7)\n",
            "Requirement already satisfied: sqlalchemy<3,>=1.3.12 in /usr/local/lib/python3.10/dist-packages (from jupyter-cache>=0.5->myst-nb>=0.13.1->inferactively-pymdp==0.0.7.1) (2.0.29)\n",
            "Requirement already satisfied: tabulate in /usr/local/lib/python3.10/dist-packages (from jupyter-cache>=0.5->myst-nb>=0.13.1->inferactively-pymdp==0.0.7.1) (0.9.0)\n",
            "Requirement already satisfied: jinja2 in /usr/local/lib/python3.10/dist-packages (from myst-parser>=1.0.0->myst-nb>=0.13.1->inferactively-pymdp==0.0.7.1) (3.1.3)\n",
            "Requirement already satisfied: markdown-it-py~=3.0 in /usr/local/lib/python3.10/dist-packages (from myst-parser>=1.0.0->myst-nb>=0.13.1->inferactively-pymdp==0.0.7.1) (3.0.0)\n",
            "Requirement already satisfied: mdit-py-plugins~=0.4 in /usr/local/lib/python3.10/dist-packages (from myst-parser>=1.0.0->myst-nb>=0.13.1->inferactively-pymdp==0.0.7.1) (0.4.0)\n",
            "Requirement already satisfied: jupyter-client>=6.1.12 in /usr/local/lib/python3.10/dist-packages (from nbclient->myst-nb>=0.13.1->inferactively-pymdp==0.0.7.1) (6.1.12)\n",
            "Requirement already satisfied: jupyter-core!=5.0.*,>=4.12 in /usr/local/lib/python3.10/dist-packages (from nbclient->myst-nb>=0.13.1->inferactively-pymdp==0.0.7.1) (5.7.2)\n",
            "Requirement already satisfied: traitlets>=5.4 in /usr/local/lib/python3.10/dist-packages (from nbclient->myst-nb>=0.13.1->inferactively-pymdp==0.0.7.1) (5.7.1)\n",
            "Requirement already satisfied: fastjsonschema>=2.15 in /usr/local/lib/python3.10/dist-packages (from nbformat>=5.0->myst-nb>=0.13.1->inferactively-pymdp==0.0.7.1) (2.19.1)\n",
            "Requirement already satisfied: jsonschema>=2.6 in /usr/local/lib/python3.10/dist-packages (from nbformat>=5.0->myst-nb>=0.13.1->inferactively-pymdp==0.0.7.1) (4.19.2)\n",
            "Requirement already satisfied: sphinxcontrib-applehelp in /usr/local/lib/python3.10/dist-packages (from sphinx>=5->myst-nb>=0.13.1->inferactively-pymdp==0.0.7.1) (1.0.8)\n",
            "Requirement already satisfied: sphinxcontrib-devhelp in /usr/local/lib/python3.10/dist-packages (from sphinx>=5->myst-nb>=0.13.1->inferactively-pymdp==0.0.7.1) (1.0.6)\n",
            "Requirement already satisfied: sphinxcontrib-jsmath in /usr/local/lib/python3.10/dist-packages (from sphinx>=5->myst-nb>=0.13.1->inferactively-pymdp==0.0.7.1) (1.0.1)\n",
            "Requirement already satisfied: sphinxcontrib-htmlhelp>=2.0.0 in /usr/local/lib/python3.10/dist-packages (from sphinx>=5->myst-nb>=0.13.1->inferactively-pymdp==0.0.7.1) (2.0.5)\n",
            "Requirement already satisfied: sphinxcontrib-serializinghtml>=1.1.9 in /usr/local/lib/python3.10/dist-packages (from sphinx>=5->myst-nb>=0.13.1->inferactively-pymdp==0.0.7.1) (1.1.10)\n",
            "Requirement already satisfied: sphinxcontrib-qthelp in /usr/local/lib/python3.10/dist-packages (from sphinx>=5->myst-nb>=0.13.1->inferactively-pymdp==0.0.7.1) (1.0.7)\n",
            "Requirement already satisfied: Pygments>=2.14 in /usr/local/lib/python3.10/dist-packages (from sphinx>=5->myst-nb>=0.13.1->inferactively-pymdp==0.0.7.1) (2.16.1)\n",
            "Requirement already satisfied: snowballstemmer>=2.0 in /usr/local/lib/python3.10/dist-packages (from sphinx>=5->myst-nb>=0.13.1->inferactively-pymdp==0.0.7.1) (2.2.0)\n",
            "Requirement already satisfied: babel>=2.9 in /usr/local/lib/python3.10/dist-packages (from sphinx>=5->myst-nb>=0.13.1->inferactively-pymdp==0.0.7.1) (2.14.0)\n",
            "Requirement already satisfied: alabaster~=0.7.14 in /usr/local/lib/python3.10/dist-packages (from sphinx>=5->myst-nb>=0.13.1->inferactively-pymdp==0.0.7.1) (0.7.16)\n",
            "Requirement already satisfied: imagesize>=1.3 in /usr/local/lib/python3.10/dist-packages (from sphinx>=5->myst-nb>=0.13.1->inferactively-pymdp==0.0.7.1) (1.4.1)\n",
            "Requirement already satisfied: requests>=2.25.0 in /usr/local/lib/python3.10/dist-packages (from sphinx>=5->myst-nb>=0.13.1->inferactively-pymdp==0.0.7.1) (2.31.0)\n",
            "Requirement already satisfied: zipp>=0.5 in /usr/local/lib/python3.10/dist-packages (from importlib_metadata->myst-nb>=0.13.1->inferactively-pymdp==0.0.7.1) (3.18.1)\n",
            "Requirement already satisfied: ipython-genutils in /usr/local/lib/python3.10/dist-packages (from ipykernel->myst-nb>=0.13.1->inferactively-pymdp==0.0.7.1) (0.2.0)\n",
            "Requirement already satisfied: tornado>=4.2 in /usr/local/lib/python3.10/dist-packages (from ipykernel->myst-nb>=0.13.1->inferactively-pymdp==0.0.7.1) (6.3.3)\n",
            "Requirement already satisfied: setuptools>=18.5 in /usr/local/lib/python3.10/dist-packages (from ipython->myst-nb>=0.13.1->inferactively-pymdp==0.0.7.1) (67.7.2)\n",
            "Requirement already satisfied: jedi>=0.16 in /usr/local/lib/python3.10/dist-packages (from ipython->myst-nb>=0.13.1->inferactively-pymdp==0.0.7.1) (0.19.1)\n",
            "Requirement already satisfied: decorator in /usr/local/lib/python3.10/dist-packages (from ipython->myst-nb>=0.13.1->inferactively-pymdp==0.0.7.1) (4.4.2)\n",
            "Requirement already satisfied: pickleshare in /usr/local/lib/python3.10/dist-packages (from ipython->myst-nb>=0.13.1->inferactively-pymdp==0.0.7.1) (0.7.5)\n",
            "Requirement already satisfied: prompt-toolkit!=3.0.0,!=3.0.1,<3.1.0,>=2.0.0 in /usr/local/lib/python3.10/dist-packages (from ipython->myst-nb>=0.13.1->inferactively-pymdp==0.0.7.1) (3.0.43)\n",
            "Requirement already satisfied: backcall in /usr/local/lib/python3.10/dist-packages (from ipython->myst-nb>=0.13.1->inferactively-pymdp==0.0.7.1) (0.2.0)\n",
            "Requirement already satisfied: matplotlib-inline in /usr/local/lib/python3.10/dist-packages (from ipython->myst-nb>=0.13.1->inferactively-pymdp==0.0.7.1) (0.1.7)\n",
            "Requirement already satisfied: pexpect>4.3 in /usr/local/lib/python3.10/dist-packages (from ipython->myst-nb>=0.13.1->inferactively-pymdp==0.0.7.1) (4.9.0)\n",
            "Requirement already satisfied: parso<0.9.0,>=0.8.3 in /usr/local/lib/python3.10/dist-packages (from jedi>=0.16->ipython->myst-nb>=0.13.1->inferactively-pymdp==0.0.7.1) (0.8.4)\n",
            "Requirement already satisfied: MarkupSafe>=2.0 in /usr/local/lib/python3.10/dist-packages (from jinja2->myst-parser>=1.0.0->myst-nb>=0.13.1->inferactively-pymdp==0.0.7.1) (2.1.5)\n",
            "Requirement already satisfied: jsonschema-specifications>=2023.03.6 in /usr/local/lib/python3.10/dist-packages (from jsonschema>=2.6->nbformat>=5.0->myst-nb>=0.13.1->inferactively-pymdp==0.0.7.1) (2023.12.1)\n",
            "Requirement already satisfied: referencing>=0.28.4 in /usr/local/lib/python3.10/dist-packages (from jsonschema>=2.6->nbformat>=5.0->myst-nb>=0.13.1->inferactively-pymdp==0.0.7.1) (0.35.0)\n",
            "Requirement already satisfied: rpds-py>=0.7.1 in /usr/local/lib/python3.10/dist-packages (from jsonschema>=2.6->nbformat>=5.0->myst-nb>=0.13.1->inferactively-pymdp==0.0.7.1) (0.18.0)\n",
            "Requirement already satisfied: pyzmq>=13 in /usr/local/lib/python3.10/dist-packages (from jupyter-client>=6.1.12->nbclient->myst-nb>=0.13.1->inferactively-pymdp==0.0.7.1) (24.0.1)\n",
            "Requirement already satisfied: platformdirs>=2.5 in /usr/local/lib/python3.10/dist-packages (from jupyter-core!=5.0.*,>=4.12->nbclient->myst-nb>=0.13.1->inferactively-pymdp==0.0.7.1) (4.2.1)\n",
            "Requirement already satisfied: mdurl~=0.1 in /usr/local/lib/python3.10/dist-packages (from markdown-it-py~=3.0->myst-parser>=1.0.0->myst-nb>=0.13.1->inferactively-pymdp==0.0.7.1) (0.1.2)\n",
            "Requirement already satisfied: ptyprocess>=0.5 in /usr/local/lib/python3.10/dist-packages (from pexpect>4.3->ipython->myst-nb>=0.13.1->inferactively-pymdp==0.0.7.1) (0.7.0)\n",
            "Requirement already satisfied: wcwidth in /usr/local/lib/python3.10/dist-packages (from prompt-toolkit!=3.0.0,!=3.0.1,<3.1.0,>=2.0.0->ipython->myst-nb>=0.13.1->inferactively-pymdp==0.0.7.1) (0.2.13)\n",
            "Requirement already satisfied: charset-normalizer<4,>=2 in /usr/local/lib/python3.10/dist-packages (from requests>=2.25.0->sphinx>=5->myst-nb>=0.13.1->inferactively-pymdp==0.0.7.1) (3.3.2)\n",
            "Requirement already satisfied: idna<4,>=2.5 in /usr/local/lib/python3.10/dist-packages (from requests>=2.25.0->sphinx>=5->myst-nb>=0.13.1->inferactively-pymdp==0.0.7.1) (3.7)\n",
            "Requirement already satisfied: urllib3<3,>=1.21.1 in /usr/local/lib/python3.10/dist-packages (from requests>=2.25.0->sphinx>=5->myst-nb>=0.13.1->inferactively-pymdp==0.0.7.1) (2.0.7)\n",
            "Requirement already satisfied: certifi>=2017.4.17 in /usr/local/lib/python3.10/dist-packages (from requests>=2.25.0->sphinx>=5->myst-nb>=0.13.1->inferactively-pymdp==0.0.7.1) (2024.2.2)\n",
            "Requirement already satisfied: greenlet!=0.4.17 in /usr/local/lib/python3.10/dist-packages (from sqlalchemy<3,>=1.3.12->jupyter-cache>=0.5->myst-nb>=0.13.1->inferactively-pymdp==0.0.7.1) (3.0.3)\n",
            "Building wheels for collected packages: inferactively-pymdp\n",
            "  Building wheel for inferactively-pymdp (setup.py) ... \u001b[?25l\u001b[?25hdone\n",
            "  Created wheel for inferactively-pymdp: filename=inferactively_pymdp-0.0.7.1-py3-none-any.whl size=59465 sha256=42c21c101eb8a71cbaeceac88ec5309f6428f849bdf1b0760586305edd1a8e88\n",
            "  Stored in directory: /tmp/pip-ephem-wheel-cache-j8i5aqt4/wheels/6c/55/7e/ff6f739a81a005549be7e254ba199eccc1f7301546561e4a7b\n",
            "Successfully built inferactively-pymdp\n",
            "Installing collected packages: inferactively-pymdp\n",
            "  Attempting uninstall: inferactively-pymdp\n",
            "    Found existing installation: inferactively-pymdp 0.0.7.1\n",
            "    Uninstalling inferactively-pymdp-0.0.7.1:\n",
            "      Successfully uninstalled inferactively-pymdp-0.0.7.1\n",
            "Successfully installed inferactively-pymdp-0.0.7.1\n"
          ]
        },
        {
          "output_type": "display_data",
          "data": {
            "application/vnd.colab-display-data+json": {
              "pip_warning": {
                "packages": [
                  "pymdp"
                ]
              },
              "id": "4aa62d069805402cad2a51d8883444a4"
            }
          },
          "metadata": {}
        }
      ]
    },
    {
      "cell_type": "code",
      "source": [
        "%cd pymdp\n",
        "!pip install .\n",
        "import sys\n",
        "sys.path.append('/content/pymdp')  # Adjust based on the cloned path"
      ],
      "metadata": {
        "colab": {
          "base_uri": "https://localhost:8080/",
          "height": 1000
        },
        "id": "W1WBrWm8iMLn",
        "outputId": "a813feb4-9d88-4ab5-ccc5-37a374d17da9"
      },
      "execution_count": 4,
      "outputs": [
        {
          "output_type": "stream",
          "name": "stdout",
          "text": [
            "/content/pymdp\n",
            "Processing /content/pymdp\n",
            "  Preparing metadata (setup.py) ... \u001b[?25l\u001b[?25hdone\n",
            "Requirement already satisfied: attrs>=20.3.0 in /usr/local/lib/python3.10/dist-packages (from inferactively-pymdp==0.0.7.1) (23.2.0)\n",
            "Requirement already satisfied: cycler>=0.10.0 in /usr/local/lib/python3.10/dist-packages (from inferactively-pymdp==0.0.7.1) (0.12.1)\n",
            "Requirement already satisfied: iniconfig>=1.1.1 in /usr/local/lib/python3.10/dist-packages (from inferactively-pymdp==0.0.7.1) (2.0.0)\n",
            "Requirement already satisfied: kiwisolver>=1.3.1 in /usr/local/lib/python3.10/dist-packages (from inferactively-pymdp==0.0.7.1) (1.4.5)\n",
            "Requirement already satisfied: matplotlib>=3.1.3 in /usr/local/lib/python3.10/dist-packages (from inferactively-pymdp==0.0.7.1) (3.7.1)\n",
            "Requirement already satisfied: nose>=1.3.7 in /usr/local/lib/python3.10/dist-packages (from inferactively-pymdp==0.0.7.1) (1.3.7)\n",
            "Requirement already satisfied: numpy>=1.19.5 in /usr/local/lib/python3.10/dist-packages (from inferactively-pymdp==0.0.7.1) (1.25.2)\n",
            "Requirement already satisfied: openpyxl>=3.0.7 in /usr/local/lib/python3.10/dist-packages (from inferactively-pymdp==0.0.7.1) (3.1.2)\n",
            "Requirement already satisfied: packaging>=20.8 in /usr/local/lib/python3.10/dist-packages (from inferactively-pymdp==0.0.7.1) (24.0)\n",
            "Requirement already satisfied: pandas>=1.2.4 in /usr/local/lib/python3.10/dist-packages (from inferactively-pymdp==0.0.7.1) (2.0.3)\n",
            "Requirement already satisfied: Pillow>=8.2.0 in /usr/local/lib/python3.10/dist-packages (from inferactively-pymdp==0.0.7.1) (9.4.0)\n",
            "Requirement already satisfied: pluggy>=0.13.1 in /usr/local/lib/python3.10/dist-packages (from inferactively-pymdp==0.0.7.1) (1.5.0)\n",
            "Requirement already satisfied: py>=1.10.0 in /usr/local/lib/python3.10/dist-packages (from inferactively-pymdp==0.0.7.1) (1.11.0)\n",
            "Requirement already satisfied: pyparsing>=2.4.7 in /usr/local/lib/python3.10/dist-packages (from inferactively-pymdp==0.0.7.1) (3.1.2)\n",
            "Requirement already satisfied: pytest>=6.2.1 in /usr/local/lib/python3.10/dist-packages (from inferactively-pymdp==0.0.7.1) (7.4.4)\n",
            "Requirement already satisfied: python-dateutil>=2.8.1 in /usr/local/lib/python3.10/dist-packages (from inferactively-pymdp==0.0.7.1) (2.8.2)\n",
            "Requirement already satisfied: pytz>=2020.5 in /usr/local/lib/python3.10/dist-packages (from inferactively-pymdp==0.0.7.1) (2023.4)\n",
            "Requirement already satisfied: scipy>=1.6.0 in /usr/local/lib/python3.10/dist-packages (from inferactively-pymdp==0.0.7.1) (1.11.4)\n",
            "Requirement already satisfied: seaborn>=0.11.1 in /usr/local/lib/python3.10/dist-packages (from inferactively-pymdp==0.0.7.1) (0.13.1)\n",
            "Requirement already satisfied: six>=1.15.0 in /usr/local/lib/python3.10/dist-packages (from inferactively-pymdp==0.0.7.1) (1.16.0)\n",
            "Requirement already satisfied: toml>=0.10.2 in /usr/local/lib/python3.10/dist-packages (from inferactively-pymdp==0.0.7.1) (0.10.2)\n",
            "Requirement already satisfied: typing-extensions>=3.7.4.3 in /usr/local/lib/python3.10/dist-packages (from inferactively-pymdp==0.0.7.1) (4.11.0)\n",
            "Requirement already satisfied: xlsxwriter>=1.4.3 in /usr/local/lib/python3.10/dist-packages (from inferactively-pymdp==0.0.7.1) (3.2.0)\n",
            "Requirement already satisfied: sphinx-rtd-theme>=0.4 in /usr/local/lib/python3.10/dist-packages (from inferactively-pymdp==0.0.7.1) (2.0.0)\n",
            "Requirement already satisfied: myst-nb>=0.13.1 in /usr/local/lib/python3.10/dist-packages (from inferactively-pymdp==0.0.7.1) (1.1.0)\n",
            "Requirement already satisfied: autograd>=1.3 in /usr/local/lib/python3.10/dist-packages (from inferactively-pymdp==0.0.7.1) (1.6.2)\n",
            "Requirement already satisfied: future>=0.15.2 in /usr/local/lib/python3.10/dist-packages (from autograd>=1.3->inferactively-pymdp==0.0.7.1) (0.18.3)\n",
            "Requirement already satisfied: contourpy>=1.0.1 in /usr/local/lib/python3.10/dist-packages (from matplotlib>=3.1.3->inferactively-pymdp==0.0.7.1) (1.2.1)\n",
            "Requirement already satisfied: fonttools>=4.22.0 in /usr/local/lib/python3.10/dist-packages (from matplotlib>=3.1.3->inferactively-pymdp==0.0.7.1) (4.51.0)\n",
            "Requirement already satisfied: importlib_metadata in /usr/local/lib/python3.10/dist-packages (from myst-nb>=0.13.1->inferactively-pymdp==0.0.7.1) (7.1.0)\n",
            "Requirement already satisfied: ipython in /usr/local/lib/python3.10/dist-packages (from myst-nb>=0.13.1->inferactively-pymdp==0.0.7.1) (7.34.0)\n",
            "Requirement already satisfied: jupyter-cache>=0.5 in /usr/local/lib/python3.10/dist-packages (from myst-nb>=0.13.1->inferactively-pymdp==0.0.7.1) (1.0.0)\n",
            "Requirement already satisfied: nbclient in /usr/local/lib/python3.10/dist-packages (from myst-nb>=0.13.1->inferactively-pymdp==0.0.7.1) (0.10.0)\n",
            "Requirement already satisfied: myst-parser>=1.0.0 in /usr/local/lib/python3.10/dist-packages (from myst-nb>=0.13.1->inferactively-pymdp==0.0.7.1) (3.0.1)\n",
            "Requirement already satisfied: nbformat>=5.0 in /usr/local/lib/python3.10/dist-packages (from myst-nb>=0.13.1->inferactively-pymdp==0.0.7.1) (5.10.4)\n",
            "Requirement already satisfied: pyyaml in /usr/local/lib/python3.10/dist-packages (from myst-nb>=0.13.1->inferactively-pymdp==0.0.7.1) (6.0.1)\n",
            "Requirement already satisfied: sphinx>=5 in /usr/local/lib/python3.10/dist-packages (from myst-nb>=0.13.1->inferactively-pymdp==0.0.7.1) (7.3.7)\n",
            "Requirement already satisfied: ipykernel in /usr/local/lib/python3.10/dist-packages (from myst-nb>=0.13.1->inferactively-pymdp==0.0.7.1) (5.5.6)\n",
            "Requirement already satisfied: et-xmlfile in /usr/local/lib/python3.10/dist-packages (from openpyxl>=3.0.7->inferactively-pymdp==0.0.7.1) (1.1.0)\n",
            "Requirement already satisfied: tzdata>=2022.1 in /usr/local/lib/python3.10/dist-packages (from pandas>=1.2.4->inferactively-pymdp==0.0.7.1) (2024.1)\n",
            "Requirement already satisfied: exceptiongroup>=1.0.0rc8 in /usr/local/lib/python3.10/dist-packages (from pytest>=6.2.1->inferactively-pymdp==0.0.7.1) (1.2.1)\n",
            "Requirement already satisfied: tomli>=1.0.0 in /usr/local/lib/python3.10/dist-packages (from pytest>=6.2.1->inferactively-pymdp==0.0.7.1) (2.0.1)\n",
            "Requirement already satisfied: docutils<0.21 in /usr/local/lib/python3.10/dist-packages (from sphinx-rtd-theme>=0.4->inferactively-pymdp==0.0.7.1) (0.18.1)\n",
            "Requirement already satisfied: sphinxcontrib-jquery<5,>=4 in /usr/local/lib/python3.10/dist-packages (from sphinx-rtd-theme>=0.4->inferactively-pymdp==0.0.7.1) (4.1)\n",
            "Requirement already satisfied: click in /usr/local/lib/python3.10/dist-packages (from jupyter-cache>=0.5->myst-nb>=0.13.1->inferactively-pymdp==0.0.7.1) (8.1.7)\n",
            "Requirement already satisfied: sqlalchemy<3,>=1.3.12 in /usr/local/lib/python3.10/dist-packages (from jupyter-cache>=0.5->myst-nb>=0.13.1->inferactively-pymdp==0.0.7.1) (2.0.29)\n",
            "Requirement already satisfied: tabulate in /usr/local/lib/python3.10/dist-packages (from jupyter-cache>=0.5->myst-nb>=0.13.1->inferactively-pymdp==0.0.7.1) (0.9.0)\n",
            "Requirement already satisfied: jinja2 in /usr/local/lib/python3.10/dist-packages (from myst-parser>=1.0.0->myst-nb>=0.13.1->inferactively-pymdp==0.0.7.1) (3.1.3)\n",
            "Requirement already satisfied: markdown-it-py~=3.0 in /usr/local/lib/python3.10/dist-packages (from myst-parser>=1.0.0->myst-nb>=0.13.1->inferactively-pymdp==0.0.7.1) (3.0.0)\n",
            "Requirement already satisfied: mdit-py-plugins~=0.4 in /usr/local/lib/python3.10/dist-packages (from myst-parser>=1.0.0->myst-nb>=0.13.1->inferactively-pymdp==0.0.7.1) (0.4.0)\n",
            "Requirement already satisfied: jupyter-client>=6.1.12 in /usr/local/lib/python3.10/dist-packages (from nbclient->myst-nb>=0.13.1->inferactively-pymdp==0.0.7.1) (6.1.12)\n",
            "Requirement already satisfied: jupyter-core!=5.0.*,>=4.12 in /usr/local/lib/python3.10/dist-packages (from nbclient->myst-nb>=0.13.1->inferactively-pymdp==0.0.7.1) (5.7.2)\n",
            "Requirement already satisfied: traitlets>=5.4 in /usr/local/lib/python3.10/dist-packages (from nbclient->myst-nb>=0.13.1->inferactively-pymdp==0.0.7.1) (5.7.1)\n",
            "Requirement already satisfied: fastjsonschema>=2.15 in /usr/local/lib/python3.10/dist-packages (from nbformat>=5.0->myst-nb>=0.13.1->inferactively-pymdp==0.0.7.1) (2.19.1)\n",
            "Requirement already satisfied: jsonschema>=2.6 in /usr/local/lib/python3.10/dist-packages (from nbformat>=5.0->myst-nb>=0.13.1->inferactively-pymdp==0.0.7.1) (4.19.2)\n",
            "Requirement already satisfied: sphinxcontrib-applehelp in /usr/local/lib/python3.10/dist-packages (from sphinx>=5->myst-nb>=0.13.1->inferactively-pymdp==0.0.7.1) (1.0.8)\n",
            "Requirement already satisfied: sphinxcontrib-devhelp in /usr/local/lib/python3.10/dist-packages (from sphinx>=5->myst-nb>=0.13.1->inferactively-pymdp==0.0.7.1) (1.0.6)\n",
            "Requirement already satisfied: sphinxcontrib-jsmath in /usr/local/lib/python3.10/dist-packages (from sphinx>=5->myst-nb>=0.13.1->inferactively-pymdp==0.0.7.1) (1.0.1)\n",
            "Requirement already satisfied: sphinxcontrib-htmlhelp>=2.0.0 in /usr/local/lib/python3.10/dist-packages (from sphinx>=5->myst-nb>=0.13.1->inferactively-pymdp==0.0.7.1) (2.0.5)\n",
            "Requirement already satisfied: sphinxcontrib-serializinghtml>=1.1.9 in /usr/local/lib/python3.10/dist-packages (from sphinx>=5->myst-nb>=0.13.1->inferactively-pymdp==0.0.7.1) (1.1.10)\n",
            "Requirement already satisfied: sphinxcontrib-qthelp in /usr/local/lib/python3.10/dist-packages (from sphinx>=5->myst-nb>=0.13.1->inferactively-pymdp==0.0.7.1) (1.0.7)\n",
            "Requirement already satisfied: Pygments>=2.14 in /usr/local/lib/python3.10/dist-packages (from sphinx>=5->myst-nb>=0.13.1->inferactively-pymdp==0.0.7.1) (2.16.1)\n",
            "Requirement already satisfied: snowballstemmer>=2.0 in /usr/local/lib/python3.10/dist-packages (from sphinx>=5->myst-nb>=0.13.1->inferactively-pymdp==0.0.7.1) (2.2.0)\n",
            "Requirement already satisfied: babel>=2.9 in /usr/local/lib/python3.10/dist-packages (from sphinx>=5->myst-nb>=0.13.1->inferactively-pymdp==0.0.7.1) (2.14.0)\n",
            "Requirement already satisfied: alabaster~=0.7.14 in /usr/local/lib/python3.10/dist-packages (from sphinx>=5->myst-nb>=0.13.1->inferactively-pymdp==0.0.7.1) (0.7.16)\n",
            "Requirement already satisfied: imagesize>=1.3 in /usr/local/lib/python3.10/dist-packages (from sphinx>=5->myst-nb>=0.13.1->inferactively-pymdp==0.0.7.1) (1.4.1)\n",
            "Requirement already satisfied: requests>=2.25.0 in /usr/local/lib/python3.10/dist-packages (from sphinx>=5->myst-nb>=0.13.1->inferactively-pymdp==0.0.7.1) (2.31.0)\n",
            "Requirement already satisfied: zipp>=0.5 in /usr/local/lib/python3.10/dist-packages (from importlib_metadata->myst-nb>=0.13.1->inferactively-pymdp==0.0.7.1) (3.18.1)\n",
            "Requirement already satisfied: ipython-genutils in /usr/local/lib/python3.10/dist-packages (from ipykernel->myst-nb>=0.13.1->inferactively-pymdp==0.0.7.1) (0.2.0)\n",
            "Requirement already satisfied: tornado>=4.2 in /usr/local/lib/python3.10/dist-packages (from ipykernel->myst-nb>=0.13.1->inferactively-pymdp==0.0.7.1) (6.3.3)\n",
            "Requirement already satisfied: setuptools>=18.5 in /usr/local/lib/python3.10/dist-packages (from ipython->myst-nb>=0.13.1->inferactively-pymdp==0.0.7.1) (67.7.2)\n",
            "Requirement already satisfied: jedi>=0.16 in /usr/local/lib/python3.10/dist-packages (from ipython->myst-nb>=0.13.1->inferactively-pymdp==0.0.7.1) (0.19.1)\n",
            "Requirement already satisfied: decorator in /usr/local/lib/python3.10/dist-packages (from ipython->myst-nb>=0.13.1->inferactively-pymdp==0.0.7.1) (4.4.2)\n",
            "Requirement already satisfied: pickleshare in /usr/local/lib/python3.10/dist-packages (from ipython->myst-nb>=0.13.1->inferactively-pymdp==0.0.7.1) (0.7.5)\n",
            "Requirement already satisfied: prompt-toolkit!=3.0.0,!=3.0.1,<3.1.0,>=2.0.0 in /usr/local/lib/python3.10/dist-packages (from ipython->myst-nb>=0.13.1->inferactively-pymdp==0.0.7.1) (3.0.43)\n",
            "Requirement already satisfied: backcall in /usr/local/lib/python3.10/dist-packages (from ipython->myst-nb>=0.13.1->inferactively-pymdp==0.0.7.1) (0.2.0)\n",
            "Requirement already satisfied: matplotlib-inline in /usr/local/lib/python3.10/dist-packages (from ipython->myst-nb>=0.13.1->inferactively-pymdp==0.0.7.1) (0.1.7)\n",
            "Requirement already satisfied: pexpect>4.3 in /usr/local/lib/python3.10/dist-packages (from ipython->myst-nb>=0.13.1->inferactively-pymdp==0.0.7.1) (4.9.0)\n",
            "Requirement already satisfied: parso<0.9.0,>=0.8.3 in /usr/local/lib/python3.10/dist-packages (from jedi>=0.16->ipython->myst-nb>=0.13.1->inferactively-pymdp==0.0.7.1) (0.8.4)\n",
            "Requirement already satisfied: MarkupSafe>=2.0 in /usr/local/lib/python3.10/dist-packages (from jinja2->myst-parser>=1.0.0->myst-nb>=0.13.1->inferactively-pymdp==0.0.7.1) (2.1.5)\n",
            "Requirement already satisfied: jsonschema-specifications>=2023.03.6 in /usr/local/lib/python3.10/dist-packages (from jsonschema>=2.6->nbformat>=5.0->myst-nb>=0.13.1->inferactively-pymdp==0.0.7.1) (2023.12.1)\n",
            "Requirement already satisfied: referencing>=0.28.4 in /usr/local/lib/python3.10/dist-packages (from jsonschema>=2.6->nbformat>=5.0->myst-nb>=0.13.1->inferactively-pymdp==0.0.7.1) (0.35.0)\n",
            "Requirement already satisfied: rpds-py>=0.7.1 in /usr/local/lib/python3.10/dist-packages (from jsonschema>=2.6->nbformat>=5.0->myst-nb>=0.13.1->inferactively-pymdp==0.0.7.1) (0.18.0)\n",
            "Requirement already satisfied: pyzmq>=13 in /usr/local/lib/python3.10/dist-packages (from jupyter-client>=6.1.12->nbclient->myst-nb>=0.13.1->inferactively-pymdp==0.0.7.1) (24.0.1)\n",
            "Requirement already satisfied: platformdirs>=2.5 in /usr/local/lib/python3.10/dist-packages (from jupyter-core!=5.0.*,>=4.12->nbclient->myst-nb>=0.13.1->inferactively-pymdp==0.0.7.1) (4.2.1)\n",
            "Requirement already satisfied: mdurl~=0.1 in /usr/local/lib/python3.10/dist-packages (from markdown-it-py~=3.0->myst-parser>=1.0.0->myst-nb>=0.13.1->inferactively-pymdp==0.0.7.1) (0.1.2)\n",
            "Requirement already satisfied: ptyprocess>=0.5 in /usr/local/lib/python3.10/dist-packages (from pexpect>4.3->ipython->myst-nb>=0.13.1->inferactively-pymdp==0.0.7.1) (0.7.0)\n",
            "Requirement already satisfied: wcwidth in /usr/local/lib/python3.10/dist-packages (from prompt-toolkit!=3.0.0,!=3.0.1,<3.1.0,>=2.0.0->ipython->myst-nb>=0.13.1->inferactively-pymdp==0.0.7.1) (0.2.13)\n",
            "Requirement already satisfied: charset-normalizer<4,>=2 in /usr/local/lib/python3.10/dist-packages (from requests>=2.25.0->sphinx>=5->myst-nb>=0.13.1->inferactively-pymdp==0.0.7.1) (3.3.2)\n",
            "Requirement already satisfied: idna<4,>=2.5 in /usr/local/lib/python3.10/dist-packages (from requests>=2.25.0->sphinx>=5->myst-nb>=0.13.1->inferactively-pymdp==0.0.7.1) (3.7)\n",
            "Requirement already satisfied: urllib3<3,>=1.21.1 in /usr/local/lib/python3.10/dist-packages (from requests>=2.25.0->sphinx>=5->myst-nb>=0.13.1->inferactively-pymdp==0.0.7.1) (2.0.7)\n",
            "Requirement already satisfied: certifi>=2017.4.17 in /usr/local/lib/python3.10/dist-packages (from requests>=2.25.0->sphinx>=5->myst-nb>=0.13.1->inferactively-pymdp==0.0.7.1) (2024.2.2)\n",
            "Requirement already satisfied: greenlet!=0.4.17 in /usr/local/lib/python3.10/dist-packages (from sqlalchemy<3,>=1.3.12->jupyter-cache>=0.5->myst-nb>=0.13.1->inferactively-pymdp==0.0.7.1) (3.0.3)\n",
            "Building wheels for collected packages: inferactively-pymdp\n",
            "  Building wheel for inferactively-pymdp (setup.py) ... \u001b[?25l\u001b[?25hdone\n",
            "  Created wheel for inferactively-pymdp: filename=inferactively_pymdp-0.0.7.1-py3-none-any.whl size=59465 sha256=ecd9eb0a38b268e44c49aee023de5692a0f70a7733f9cc1006724e08f4362ce2\n",
            "  Stored in directory: /tmp/pip-ephem-wheel-cache-oaogr8oq/wheels/6c/55/7e/ff6f739a81a005549be7e254ba199eccc1f7301546561e4a7b\n",
            "Successfully built inferactively-pymdp\n",
            "Installing collected packages: inferactively-pymdp\n",
            "  Attempting uninstall: inferactively-pymdp\n",
            "    Found existing installation: inferactively-pymdp 0.0.7.1\n",
            "    Uninstalling inferactively-pymdp-0.0.7.1:\n",
            "      Successfully uninstalled inferactively-pymdp-0.0.7.1\n",
            "Successfully installed inferactively-pymdp-0.0.7.1\n"
          ]
        },
        {
          "output_type": "display_data",
          "data": {
            "application/vnd.colab-display-data+json": {
              "pip_warning": {
                "packages": [
                  "pymdp"
                ]
              },
              "id": "af3436301b2c47349cb5e95f57dcda1d"
            }
          },
          "metadata": {}
        }
      ]
    },
    {
      "cell_type": "code",
      "source": [
        "# Import necessary libraries\n",
        "import numpy as np\n",
        "import pymdp\n",
        "\n",
        "# Import classes and functions from pymdp\n",
        "from pymdp.agent import Agent\n",
        "from pymdp import utils\n",
        "\n",
        "# Pretty print for visual clarity\n",
        "from pprint import pprint\n"
      ],
      "metadata": {
        "id": "nnc0l4UCaOz3"
      },
      "execution_count": 1,
      "outputs": []
    },
    {
      "cell_type": "code",
      "source": [
        "np.random.seed(0)\n",
        "# init dims\n",
        "num_items = 5\n",
        "num_bins = 10\n",
        "\n",
        "item_weights = np.random.uniform(0, 10, size=(num_items,))\n",
        "bin_capacity = np.random.uniform(5, 10, size=(num_bins,)) # no bins can fit more than 3 items of max weight\n",
        "\n",
        "act_dim = num_bins\n",
        "state_dim = 3 # choices = [empty, non-empty, exceeded]\n",
        "\n",
        "# pymdp dims\n",
        "act_dims = [act_dim for _ in range(num_items)]\n",
        "state_dims = [state_dim for _ in range(num_bins)]\n",
        "\n",
        "B_factor_list = [[] for _ in range(num_bins)]\n",
        "B_factor_control_list = [list(range(num_items)) for _ in range(num_bins)]\n",
        "\n",
        "print(\"\\nact_dims\")\n",
        "pprint(act_dims)\n",
        "\n",
        "print(\"\\nstate_dims\")\n",
        "pprint(state_dims)\n",
        "\n",
        "print(\"\\nstate_dependencies\")\n",
        "pprint(B_factor_list)\n",
        "\n",
        "print(\"\\naction_dependencies\")\n",
        "pprint(B_factor_control_list)"
      ],
      "metadata": {
        "colab": {
          "base_uri": "https://localhost:8080/"
        },
        "id": "Blu4VUEoc8TN",
        "outputId": "b30385c5-43a6-4e5b-b81d-363964371756"
      },
      "execution_count": 2,
      "outputs": [
        {
          "output_type": "stream",
          "name": "stdout",
          "text": [
            "\n",
            "act_dims\n",
            "[10, 10, 10, 10, 10]\n",
            "\n",
            "state_dims\n",
            "[3, 3, 3, 3, 3, 3, 3, 3, 3, 3]\n",
            "\n",
            "state_dependencies\n",
            "[[], [], [], [], [], [], [], [], [], []]\n",
            "\n",
            "action_dependencies\n",
            "[[0, 1, 2, 3, 4],\n",
            " [0, 1, 2, 3, 4],\n",
            " [0, 1, 2, 3, 4],\n",
            " [0, 1, 2, 3, 4],\n",
            " [0, 1, 2, 3, 4],\n",
            " [0, 1, 2, 3, 4],\n",
            " [0, 1, 2, 3, 4],\n",
            " [0, 1, 2, 3, 4],\n",
            " [0, 1, 2, 3, 4],\n",
            " [0, 1, 2, 3, 4]]\n"
          ]
        }
      ]
    },
    {
      "cell_type": "code",
      "source": [
        "# transition matrix\n",
        "B_template = pymdp.utils.random_B_matrix(\n",
        "    state_dims,\n",
        "    act_dims,\n",
        "    B_factor_list=B_factor_list,\n",
        "    B_factor_control_list=B_factor_control_list\n",
        ")\n",
        "B_array = np.array([np.zeros_like(a) for a in B_template], dtype=object)\n",
        "\n",
        "print(\"transition dims\")\n",
        "pprint([a.shape for a in B_array])"
      ],
      "metadata": {
        "colab": {
          "base_uri": "https://localhost:8080/",
          "height": 211
        },
        "id": "1GS4-WiTgN6G",
        "outputId": "9b6c5e29-a4e2-444f-cbdd-f557389b5a2d"
      },
      "execution_count": 3,
      "outputs": [
        {
          "output_type": "error",
          "ename": "TypeError",
          "evalue": "random_B_matrix() got an unexpected keyword argument 'B_factor_list'",
          "traceback": [
            "\u001b[0;31m---------------------------------------------------------------------------\u001b[0m",
            "\u001b[0;31mTypeError\u001b[0m                                 Traceback (most recent call last)",
            "\u001b[0;32m<ipython-input-3-e7152e17bcb3>\u001b[0m in \u001b[0;36m<cell line: 2>\u001b[0;34m()\u001b[0m\n\u001b[1;32m      1\u001b[0m \u001b[0;31m# transition matrix\u001b[0m\u001b[0;34m\u001b[0m\u001b[0;34m\u001b[0m\u001b[0m\n\u001b[0;32m----> 2\u001b[0;31m B_template = pymdp.utils.random_B_matrix(\n\u001b[0m\u001b[1;32m      3\u001b[0m     \u001b[0mstate_dims\u001b[0m\u001b[0;34m,\u001b[0m\u001b[0;34m\u001b[0m\u001b[0;34m\u001b[0m\u001b[0m\n\u001b[1;32m      4\u001b[0m     \u001b[0mact_dims\u001b[0m\u001b[0;34m,\u001b[0m\u001b[0;34m\u001b[0m\u001b[0;34m\u001b[0m\u001b[0m\n\u001b[1;32m      5\u001b[0m     \u001b[0mB_factor_list\u001b[0m\u001b[0;34m=\u001b[0m\u001b[0mB_factor_list\u001b[0m\u001b[0;34m,\u001b[0m\u001b[0;34m\u001b[0m\u001b[0;34m\u001b[0m\u001b[0m\n",
            "\u001b[0;31mTypeError\u001b[0m: random_B_matrix() got an unexpected keyword argument 'B_factor_list'"
          ]
        }
      ]
    },
    {
      "cell_type": "code",
      "source": [
        "def create_constraint_factor(B, bin_index, act_dim, item_weights, bin_capacity):\n",
        "    tensor = np.zeros_like(B)\n",
        "    for a_1 in range(act_dim):\n",
        "        for a_2 in range(act_dim):\n",
        "            for a_3 in range(act_dim):\n",
        "                for a_4 in range(act_dim):\n",
        "                    for a_5 in range(act_dim):\n",
        "                        assignment = np.array([a_1, a_2, a_3, a_4, a_5]) == bin_index\n",
        "                        total_weight = np.sum(assignment * item_weights)\n",
        "\n",
        "                        if not np.any(np.array([a_1, a_2, a_3, a_4, a_5]) == bin_index):\n",
        "                            # print(\"bin empty\")\n",
        "                            tensor[0, a_1, a_2, a_3, a_4, a_5] = 1\n",
        "                        else:\n",
        "                            if total_weight > bin_capacity[bin_index]:\n",
        "                                # print(\"exceeded\")\n",
        "                                tensor[2, a_1, a_2, a_3, a_4, a_5] = 1\n",
        "                            else:\n",
        "                                # print(\"not empty\")\n",
        "                                tensor[1, a_1, a_2, a_3, a_4, a_5] = 1\n",
        "                        # return\n",
        "    return tensor"
      ],
      "metadata": {
        "id": "JpLry5sZgOaG"
      },
      "execution_count": null,
      "outputs": []
    },
    {
      "cell_type": "code",
      "source": [
        "for bin_index in range(num_bins):\n",
        "    B_array[bin_index] = create_constraint_factor(\n",
        "        B_array[bin_index], bin_index, act_dim, item_weights, bin_capacity\n",
        "    )\n",
        "\n",
        "print(\"is normalized\")\n",
        "pprint([np.all(a.sum(0) == 1) for a in B_array])"
      ],
      "metadata": {
        "id": "2Y13ewnY8NtZ"
      },
      "execution_count": null,
      "outputs": []
    },
    {
      "cell_type": "code",
      "source": [
        "# assign observations\n",
        "obs_dims = state_dims\n",
        "A_factor_list = [[i] for i in range(len(state_dims))]\n",
        "\n",
        "A_template = utils.random_A_matrix(\n",
        "    obs_dims,\n",
        "    state_dims,\n",
        "    A_factor_list=A_factor_list\n",
        ")\n",
        "A_array = np.array([np.zeros_like(a) for a in A_template], dtype=object)\n",
        "\n",
        "for i in range(len(A_array)):\n",
        "    A_array[i] = np.eye(len(A_array[i]))\n",
        "\n",
        "print(\"normalized\")\n",
        "print([a.shape for a in A_array])\n",
        "print([a.sum(0).all() for a in A_array])"
      ],
      "metadata": {
        "id": "SAtJTRQb8PjA"
      },
      "execution_count": null,
      "outputs": []
    },
    {
      "cell_type": "code",
      "source": [
        "# assign preference\n",
        "C_template = utils.obj_array_uniform(\n",
        "    obs_dims\n",
        ")\n",
        "C_array = np.array([np.zeros_like(a) for a in C_template], dtype=object)\n",
        "\n",
        "# # assign constraint preference\n",
        "for i in range(num_bins):\n",
        "    C_array[i] = np.array([0.6, 0.4, 0.])\n",
        "\n",
        "print(\"normalized\")\n",
        "print([a.shape for a in C_array])\n",
        "print([a.sum(0) == 1 for a in C_array])"
      ],
      "metadata": {
        "id": "H5a2Ci3K8T8J"
      },
      "execution_count": null,
      "outputs": []
    },
    {
      "cell_type": "code",
      "source": [
        "agent = Agent(\n",
        "    A=A_array,\n",
        "    B=B_array,\n",
        "    C=C_array,\n",
        "    num_controls=act_dims,\n",
        "    policy_len=1,\n",
        "    A_factor_list=A_factor_list,\n",
        "    B_factor_list=B_factor_list,\n",
        "    B_factor_control_list=B_factor_control_list,\n",
        ")"
      ],
      "metadata": {
        "id": "R84k8y6k8Vr5"
      },
      "execution_count": null,
      "outputs": []
    },
    {
      "cell_type": "code",
      "source": [
        "q_pi, _ = agent.infer_policies()"
      ],
      "metadata": {
        "id": "i5yzpTBL8WJZ"
      },
      "execution_count": null,
      "outputs": []
    }
  ]
}